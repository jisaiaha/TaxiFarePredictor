{
 "cells": [
  {
   "cell_type": "markdown",
   "id": "d744ccab-76c7-454d-b05b-6b05fcc897e1",
   "metadata": {},
   "source": [
    "# NYC Taxi Fare Prediction\n",
    "**Final Project for Introduction to Data Science**\n",
    "\n",
    "---\n",
    "\n",
    "### **Authors**\n",
    "- Joshua Arroyo\n",
    "- Samuel Trejo\n",
    "\n",
    "---\n",
    "\n",
    "### **Objective**\n",
    "This project aims to predict NYC taxi fares using machine learning techniques, focusing on data preprocessing, exploratory analysis, and building a neural network model to make accurate predictions.\n"
   ]
  },
  {
   "cell_type": "code",
   "execution_count": null,
   "id": "adad2770-5c4e-4385-bbd0-7f87e9811468",
   "metadata": {},
   "outputs": [],
   "source": []
  }
 ],
 "metadata": {
  "kernelspec": {
   "display_name": "Python 3 (ipykernel)",
   "language": "python",
   "name": "python3"
  },
  "language_info": {
   "codemirror_mode": {
    "name": "ipython",
    "version": 3
   },
   "file_extension": ".py",
   "mimetype": "text/x-python",
   "name": "python",
   "nbconvert_exporter": "python",
   "pygments_lexer": "ipython3",
   "version": "3.11.5"
  }
 },
 "nbformat": 4,
 "nbformat_minor": 5
}
